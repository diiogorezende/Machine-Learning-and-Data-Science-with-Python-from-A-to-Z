{
  "nbformat": 4,
  "nbformat_minor": 0,
  "metadata": {
    "colab": {
      "provenance": []
    },
    "kernelspec": {
      "name": "python3",
      "display_name": "Python 3"
    },
    "language_info": {
      "name": "python"
    }
  },
  "cells": [
    {
      "cell_type": "markdown",
      "source": [
        "# Naive Bayes\n",
        "É um algoritmo que tem uma abordagem probabilistica (Teorema de Bayes)\n",
        "\n",
        "É um algoritmo que pode ser usado em:\n",
        "- Filtros de spam\n",
        "- Mineração de emoções em texto\n",
        "- Classificação de documentos\n",
        "\n",
        "Primeiro ele verifica as probabilidades de cada uma das combinações. Ao receber novos dados, ele verifica quais são as variáveis e valores para cada uma delas e, a partir do que aprendeu, calcula a probabilidade de fornecer o crédito ou não (exemplo que iremos trabalhar).\n",
        "\n",
        "Nesse exemplo temos os seguintes novos dados para classificar de um cliente, se iremos fornecer ou não o empréstimo:\n",
        "- Histórico = Bom\n",
        "- Dívida = Alta\n",
        "- Garantia = Nenhuma\n",
        "- Renda > 35k/ano\n",
        "\n",
        "Vamos fazer as estimativas de probabilidade para cada uma das classes.\n",
        "- P(alto) = 6/14 * 1/6 * 4/6 * 6/6 * 1/6 = 0.0079 ---> Esse valor indica o risco de crédito para esse cliente, porém precisamos avaliar as outras características.\n",
        "- P(moderado) = 3/14 * 1/3 * 1/3 * 2/3 * 1/3 = 0.0052\n",
        "-P(baixo) = 5/14 * 3/5 * 2/5 * 3/5 * 5/5 = 0.0514\n",
        "\n",
        "A partir desses valores, podemos observar que o risco de fornecer o crédito para esse cliente é baixo.\n",
        "\n",
        "Para descobrirmos o que esses valores equivalem em porcentagem de conceder o crédito, precisamos fazer alguns passos adicionais:\n",
        "- Somar os valores resultantes: 0.0079 + 0.0052 + 0.0514 = 0.0645\n",
        "- Após obter o resultado da soma, fazemos o cálculo para cada um dos casos para obter a porcentagem:\n",
        "- P(alto) = 0.0079 / 0.0645 * 100 = 12,24%\n",
        "- P(moderado) = 0.0052 / 0.0645 * 100 = 8.06%\n",
        "- P(baixo) = 0.0514 / 0.0645 * 100 = 79.68%\n",
        "\n",
        "<br>\n",
        "\n",
        "## Correção Laplaciana\n",
        "Recebemos os dados para verificação de um novo cliente:\n",
        "- Histórico = Ruim\n",
        "- Dívida = Alta\n",
        "- Garantias = Adequada\n",
        "- Renda < 15k/ano\n",
        "\n",
        "- P(alto) = 6/14 * 3/6 * 4/6 * 0 * 3/6 = 0\n",
        "- P(moderado) = 3/14 * 1/3 * 1/3 * 1/3 * 0 = 0\n",
        "-P(baixo) = 5/14 * 0 * 2/5 * 2/5 * 0 = 0\n",
        "\n",
        "Perceba que temos um problema: o resultado dessas probabilidades é zero, fazendo com que não seja possível verificarmos a qual classe o cliente irá perterncer.\n",
        "\n",
        "É neste tipo de situação que a __correção laplaceana__ entra em jogo.\n",
        "Ao aplicar essa correção, ela aplicará um registro adicional. Ou seja, onde está com zero, colocarímos o valor 1. Dessa forma, teremos as novas expressões:\n",
        "- P(alto) = 7/15 * 3/7 * 4/7 * 1/7 * 3/7 = 0\n",
        "- P(moderado) = 4/15 * 1/4 * 1/4 * 1/4 * 1/4 = 0\n",
        "-P(baixo) = 6/15 * 1/6 * 2/6 * 2/6 * 1/6 = 0\n",
        "\n",
        "Após essa correção, seriam realizados os cálculos igual fizemos anteriormente.\n",
        "\n",
        "<br>\n",
        "\n",
        "## Mais conceitos\n",
        "No _Naive Bayes_, usamos as probabilidades __apriori__ - que são os dados que conhecemos previamente - para calcular as probabilidades __posteriori__ - que são os dados que desconhecemos.\n",
        "\n",
        "__Vantagens e Desvantagens__\n",
        " - __Vantagens__: É um algoritmo rápido que não requer muito processamento computacional; possui uma interpretação simples; é capaz de lidar com várias dimensões; faz boas previsões em bases pequenas.\n",
        " - __Desvantagens__: Combina características, onde considera as váriaveis independentes, ou seja, cosidera que um atributo não tem relação com o outro."
      ],
      "metadata": {
        "id": "GbZG5yvrJ-rZ"
      }
    },
    {
      "cell_type": "code",
      "execution_count": 6,
      "metadata": {
        "id": "aqVXIG0ETTmI"
      },
      "outputs": [],
      "source": [
        "# Importação das bibliotecas.\n",
        "\n",
        "import pandas as pd\n",
        "import numpy as np\n",
        "import seaborn as sns\n",
        "import matplotlib.pyplot as plt\n",
        "import plotly.express as px\n",
        "import pickle\n",
        "from sklearn.naive_bayes import GaussianNB\n",
        "\n",
        "plt.style.use('ggplot')"
      ]
    },
    {
      "cell_type": "markdown",
      "source": [
        "## Base risco de crédito"
      ],
      "metadata": {
        "id": "FCI9ckBZD4uc"
      }
    },
    {
      "cell_type": "code",
      "source": [
        "# Importação dos dados.\n",
        "with open('credit_processed.pkl', 'rb') as f:\n",
        "  X_credit_train, y_credit_train, X_credit_test, y_credit_test = pickle.load(f)"
      ],
      "metadata": {
        "id": "XIFSVurxD8i8"
      },
      "execution_count": 3,
      "outputs": []
    },
    {
      "cell_type": "code",
      "source": [
        "X_credit_train.shape, y_credit_train.shape"
      ],
      "metadata": {
        "colab": {
          "base_uri": "https://localhost:8080/"
        },
        "id": "DSpmhHG5omGD",
        "outputId": "0b047cbf-3c84-44a9-9c66-be15094b9b2f"
      },
      "execution_count": 4,
      "outputs": [
        {
          "output_type": "execute_result",
          "data": {
            "text/plain": [
              "((24432, 7), (24432,))"
            ]
          },
          "metadata": {},
          "execution_count": 4
        }
      ]
    },
    {
      "cell_type": "code",
      "source": [
        "X_credit_test.shape, y_credit_test.shape"
      ],
      "metadata": {
        "colab": {
          "base_uri": "https://localhost:8080/"
        },
        "id": "RSpFi45OotfP",
        "outputId": "22b7b20a-b9fe-4091-d60d-6c82fb6e6bdf"
      },
      "execution_count": 5,
      "outputs": [
        {
          "output_type": "execute_result",
          "data": {
            "text/plain": [
              "((8144, 7), (8144,))"
            ]
          },
          "metadata": {},
          "execution_count": 5
        }
      ]
    },
    {
      "cell_type": "code",
      "source": [
        "# Instancia o modelo\n",
        "naive_credit_data = GaussianNB()\n",
        "\n",
        "# Ajusta os dados de treino\n",
        "naive_credit_data.fit(X_credit_train, y_credit_train)"
      ],
      "metadata": {
        "colab": {
          "base_uri": "https://localhost:8080/",
          "height": 75
        },
        "id": "8PQl9Wlwoynz",
        "outputId": "0c6fac4a-b938-40eb-a2b3-8222ad9f5e6c"
      },
      "execution_count": 7,
      "outputs": [
        {
          "output_type": "execute_result",
          "data": {
            "text/plain": [
              "GaussianNB()"
            ],
            "text/html": [
              "<style>#sk-container-id-1 {color: black;}#sk-container-id-1 pre{padding: 0;}#sk-container-id-1 div.sk-toggleable {background-color: white;}#sk-container-id-1 label.sk-toggleable__label {cursor: pointer;display: block;width: 100%;margin-bottom: 0;padding: 0.3em;box-sizing: border-box;text-align: center;}#sk-container-id-1 label.sk-toggleable__label-arrow:before {content: \"▸\";float: left;margin-right: 0.25em;color: #696969;}#sk-container-id-1 label.sk-toggleable__label-arrow:hover:before {color: black;}#sk-container-id-1 div.sk-estimator:hover label.sk-toggleable__label-arrow:before {color: black;}#sk-container-id-1 div.sk-toggleable__content {max-height: 0;max-width: 0;overflow: hidden;text-align: left;background-color: #f0f8ff;}#sk-container-id-1 div.sk-toggleable__content pre {margin: 0.2em;color: black;border-radius: 0.25em;background-color: #f0f8ff;}#sk-container-id-1 input.sk-toggleable__control:checked~div.sk-toggleable__content {max-height: 200px;max-width: 100%;overflow: auto;}#sk-container-id-1 input.sk-toggleable__control:checked~label.sk-toggleable__label-arrow:before {content: \"▾\";}#sk-container-id-1 div.sk-estimator input.sk-toggleable__control:checked~label.sk-toggleable__label {background-color: #d4ebff;}#sk-container-id-1 div.sk-label input.sk-toggleable__control:checked~label.sk-toggleable__label {background-color: #d4ebff;}#sk-container-id-1 input.sk-hidden--visually {border: 0;clip: rect(1px 1px 1px 1px);clip: rect(1px, 1px, 1px, 1px);height: 1px;margin: -1px;overflow: hidden;padding: 0;position: absolute;width: 1px;}#sk-container-id-1 div.sk-estimator {font-family: monospace;background-color: #f0f8ff;border: 1px dotted black;border-radius: 0.25em;box-sizing: border-box;margin-bottom: 0.5em;}#sk-container-id-1 div.sk-estimator:hover {background-color: #d4ebff;}#sk-container-id-1 div.sk-parallel-item::after {content: \"\";width: 100%;border-bottom: 1px solid gray;flex-grow: 1;}#sk-container-id-1 div.sk-label:hover label.sk-toggleable__label {background-color: #d4ebff;}#sk-container-id-1 div.sk-serial::before {content: \"\";position: absolute;border-left: 1px solid gray;box-sizing: border-box;top: 0;bottom: 0;left: 50%;z-index: 0;}#sk-container-id-1 div.sk-serial {display: flex;flex-direction: column;align-items: center;background-color: white;padding-right: 0.2em;padding-left: 0.2em;position: relative;}#sk-container-id-1 div.sk-item {position: relative;z-index: 1;}#sk-container-id-1 div.sk-parallel {display: flex;align-items: stretch;justify-content: center;background-color: white;position: relative;}#sk-container-id-1 div.sk-item::before, #sk-container-id-1 div.sk-parallel-item::before {content: \"\";position: absolute;border-left: 1px solid gray;box-sizing: border-box;top: 0;bottom: 0;left: 50%;z-index: -1;}#sk-container-id-1 div.sk-parallel-item {display: flex;flex-direction: column;z-index: 1;position: relative;background-color: white;}#sk-container-id-1 div.sk-parallel-item:first-child::after {align-self: flex-end;width: 50%;}#sk-container-id-1 div.sk-parallel-item:last-child::after {align-self: flex-start;width: 50%;}#sk-container-id-1 div.sk-parallel-item:only-child::after {width: 0;}#sk-container-id-1 div.sk-dashed-wrapped {border: 1px dashed gray;margin: 0 0.4em 0.5em 0.4em;box-sizing: border-box;padding-bottom: 0.4em;background-color: white;}#sk-container-id-1 div.sk-label label {font-family: monospace;font-weight: bold;display: inline-block;line-height: 1.2em;}#sk-container-id-1 div.sk-label-container {text-align: center;}#sk-container-id-1 div.sk-container {/* jupyter's `normalize.less` sets `[hidden] { display: none; }` but bootstrap.min.css set `[hidden] { display: none !important; }` so we also need the `!important` here to be able to override the default hidden behavior on the sphinx rendered scikit-learn.org. See: https://github.com/scikit-learn/scikit-learn/issues/21755 */display: inline-block !important;position: relative;}#sk-container-id-1 div.sk-text-repr-fallback {display: none;}</style><div id=\"sk-container-id-1\" class=\"sk-top-container\"><div class=\"sk-text-repr-fallback\"><pre>GaussianNB()</pre><b>In a Jupyter environment, please rerun this cell to show the HTML representation or trust the notebook. <br />On GitHub, the HTML representation is unable to render, please try loading this page with nbviewer.org.</b></div><div class=\"sk-container\" hidden><div class=\"sk-item\"><div class=\"sk-estimator sk-toggleable\"><input class=\"sk-toggleable__control sk-hidden--visually\" id=\"sk-estimator-id-1\" type=\"checkbox\" checked><label for=\"sk-estimator-id-1\" class=\"sk-toggleable__label sk-toggleable__label-arrow\">GaussianNB</label><div class=\"sk-toggleable__content\"><pre>GaussianNB()</pre></div></div></div></div></div>"
            ]
          },
          "metadata": {},
          "execution_count": 7
        }
      ]
    },
    {
      "cell_type": "code",
      "source": [
        "# Previsões nos dados de teste\n",
        "previsoes = naive_credit_data.predict(X_credit_test)"
      ],
      "metadata": {
        "id": "R0B4rCqspVnv"
      },
      "execution_count": 8,
      "outputs": []
    },
    {
      "cell_type": "code",
      "source": [
        "# Vamos comparar as métricas de desempenho\n",
        "from sklearn.metrics import accuracy_score, confusion_matrix"
      ],
      "metadata": {
        "id": "BJJSTHkDph5w"
      },
      "execution_count": 11,
      "outputs": []
    },
    {
      "cell_type": "code",
      "source": [
        "accuracy_score(y_credit_test, previsoes)"
      ],
      "metadata": {
        "colab": {
          "base_uri": "https://localhost:8080/"
        },
        "id": "qzgzRYx3rHSZ",
        "outputId": "5aabb7fa-c63a-47fb-c835-c38a8a383d24"
      },
      "execution_count": 12,
      "outputs": [
        {
          "output_type": "execute_result",
          "data": {
            "text/plain": [
              "0.8226915520628684"
            ]
          },
          "metadata": {},
          "execution_count": 12
        }
      ]
    },
    {
      "cell_type": "code",
      "source": [
        "confusion_matrix(y_credit_test, previsoes)"
      ],
      "metadata": {
        "colab": {
          "base_uri": "https://localhost:8080/"
        },
        "id": "S6OcjXJYrNBj",
        "outputId": "be3adeac-c8c8-4f19-f09c-54a4bbf4262a"
      },
      "execution_count": 13,
      "outputs": [
        {
          "output_type": "execute_result",
          "data": {
            "text/plain": [
              "array([[5859,  509],\n",
              "       [ 935,  841]])"
            ]
          },
          "metadata": {},
          "execution_count": 13
        }
      ]
    },
    {
      "cell_type": "code",
      "source": [
        "from yellowbrick.classifier import ConfusionMatrix"
      ],
      "metadata": {
        "id": "y7CZ5TUZrTBS"
      },
      "execution_count": 14,
      "outputs": []
    },
    {
      "cell_type": "code",
      "source": [
        "cm = ConfusionMatrix(naive_credit_data)\n",
        "cm.fit(X_credit_train, y_credit_train)\n",
        "cm.score(X_credit_test, y_credit_test)"
      ],
      "metadata": {
        "colab": {
          "base_uri": "https://localhost:8080/",
          "height": 496
        },
        "id": "7QAdxLt8rqpY",
        "outputId": "e45103e7-a555-4bd2-ab23-df06627006b7"
      },
      "execution_count": 15,
      "outputs": [
        {
          "output_type": "execute_result",
          "data": {
            "text/plain": [
              "0.8226915520628684"
            ]
          },
          "metadata": {},
          "execution_count": 15
        },
        {
          "output_type": "display_data",
          "data": {
            "text/plain": [
              "<Figure size 800x550 with 1 Axes>"
            ],
            "image/png": "[encoded data removed]"
          },
          "metadata": {}
        }
      ]
    },
    {
      "cell_type": "markdown",
      "source": [
        "## Base Census"
      ],
      "metadata": {
        "id": "Y3B5QJELtCSv"
      }
    },
    {
      "cell_type": "code",
      "source": [
        "with open('/content/census_processed.pkl', 'rb') as f:\n",
        "  X_census_train, y_census_train, X_census_test, y_census_test = pickle.load(f)"
      ],
      "metadata": {
        "id": "Cu8hOXygtEBz"
      },
      "execution_count": 16,
      "outputs": []
    },
    {
      "cell_type": "code",
      "source": [
        "X_census_train.shape, y_census_train.shape"
      ],
      "metadata": {
        "colab": {
          "base_uri": "https://localhost:8080/"
        },
        "id": "CVzjepsFtUud",
        "outputId": "ca43a766-738c-40a0-d9b2-6ef84681a5fa"
      },
      "execution_count": 17,
      "outputs": [
        {
          "output_type": "execute_result",
          "data": {
            "text/plain": [
              "((24420, 108), (24420,))"
            ]
          },
          "metadata": {},
          "execution_count": 17
        }
      ]
    },
    {
      "cell_type": "code",
      "source": [
        "X_census_test.shape, y_census_test.shape"
      ],
      "metadata": {
        "colab": {
          "base_uri": "https://localhost:8080/"
        },
        "id": "Q7VZv6HDtcT5",
        "outputId": "1f2aad88-c1cf-4af0-c8be-d23ae87c96e3"
      },
      "execution_count": 18,
      "outputs": [
        {
          "output_type": "execute_result",
          "data": {
            "text/plain": [
              "((8141, 108), (8141,))"
            ]
          },
          "metadata": {},
          "execution_count": 18
        }
      ]
    },
    {
      "cell_type": "code",
      "source": [
        "# Instancia o modelo\n",
        "naive_census = GaussianNB()\n",
        "\n",
        "# Ajusta o modelo aos dados de treino\n",
        "naive_census.fit(X_census_train, y_census_train)\n",
        "\n",
        "# Realiza as previsoes\n",
        "previsoes = naive_census.predict(X_census_test)\n",
        "previsoes"
      ],
      "metadata": {
        "colab": {
          "base_uri": "https://localhost:8080/"
        },
        "id": "bGc6fXtGthhY",
        "outputId": "40108980-3a35-4563-dab5-e3e7eca54ab9"
      },
      "execution_count": 19,
      "outputs": [
        {
          "output_type": "execute_result",
          "data": {
            "text/plain": [
              "array(['>50K', '>50K', '>50K', ..., '>50K', '>50K', '<=50K'], dtype='<U5')"
            ]
          },
          "metadata": {},
          "execution_count": 19
        }
      ]
    },
    {
      "cell_type": "code",
      "source": [
        "# Verificar as métricas de desempenho\n",
        "accuracy_score(y_census_test, previsoes)"
      ],
      "metadata": {
        "colab": {
          "base_uri": "https://localhost:8080/"
        },
        "id": "6VFwxj5bt9nv",
        "outputId": "1a5749b1-f293-4156-fd4f-ae365de6e9fe"
      },
      "execution_count": 20,
      "outputs": [
        {
          "output_type": "execute_result",
          "data": {
            "text/plain": [
              "0.38742169266674853"
            ]
          },
          "metadata": {},
          "execution_count": 20
        }
      ]
    },
    {
      "cell_type": "code",
      "source": [
        "# MAtriz de confusao\n",
        "cm = ConfusionMatrix(naive_census)\n",
        "\n",
        "cm.fit(X_census_train, y_census_train)\n",
        "\n",
        "cm.score(X_census_test, y_census_test)"
      ],
      "metadata": {
        "colab": {
          "base_uri": "https://localhost:8080/",
          "height": 536
        },
        "id": "BeM4KroCuKeW",
        "outputId": "aed78926-7807-4455-fd15-f96e59716fa1"
      },
      "execution_count": 21,
      "outputs": [
        {
          "output_type": "execute_result",
          "data": {
            "text/plain": [
              "0.38742169266674853"
            ]
          },
          "metadata": {},
          "execution_count": 21
        },
        {
          "output_type": "display_data",
          "data": {
            "text/plain": [
              "<Figure size 800x550 with 1 Axes>"
            ],
            "image/png": "[encoded data removed]"
          },
          "metadata": {}
        }
      ]
    }
  ]
}